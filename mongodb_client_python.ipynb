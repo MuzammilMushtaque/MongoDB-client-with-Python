{
 "cells": [
  {
   "cell_type": "markdown",
   "id": "fad5bea5",
   "metadata": {},
   "source": [
    "# MongoDB Queries in Python <br>\n",
    "\n",
    "## Muzammil Mushtaq <br>\n"
   ]
  },
  {
   "cell_type": "markdown",
   "id": "0fc4f3c5",
   "metadata": {},
   "source": [
    "## Tasks <br>\n",
    "\n",
    "In this concise project, our objective was to establish a connection with a MongoDB database, create a collection, and populate it with documents using a Python client. Additionally, we crafted a Python application designed to generate random JSON-style student data. Subsequently, we explored the process of pushing this student dataset into MongoDB. Lastly, we implemented a Python application to execute various MongoDB queries, including insertion, updating, calculating averages, counting, and deleting documents within the MongoDB database."
   ]
  },
  {
   "cell_type": "markdown",
   "id": "4bd23d57",
   "metadata": {},
   "source": [
    "### *Test Database Connection*"
   ]
  },
  {
   "cell_type": "code",
   "execution_count": 2,
   "id": "584bf40a",
   "metadata": {},
   "outputs": [
    {
     "name": "stdout",
     "output_type": "stream",
     "text": [
      "List of available databases:\n",
      "Number of documents in 'Test_collection': 0\n",
      "Connection test successful!\n"
     ]
    }
   ],
   "source": [
    "import pymongo\n",
    "connection_string = \"mongodb://localhost:27017\"\n",
    "\n",
    "try:\n",
    "    client = pymongo.MongoClient(connection_string)\n",
    "    database = client['Test_database']  # replace with your_database_name\n",
    "\n",
    "    # List all available databases\n",
    "    print(\"List of available databases:\")\n",
    "   # print(client.list_database_names())\n",
    "\n",
    "    # Access a collection in the database\n",
    "    collection = database['Test_collection'] # replace with your_collection_name\n",
    "\n",
    "    # Count the documents in the collection\n",
    "    document_count = collection.count_documents({})\n",
    "    print(f\"Number of documents in 'Test_collection': {document_count}\")\n",
    "\n",
    "    print(\"Connection test successful!\")\n",
    "\n",
    "except pymongo.errors.ConnectionFailure as e:\n",
    "    print(f\"Could not connect to MongoDB: {e}\")\n"
   ]
  },
  {
   "cell_type": "markdown",
   "id": "593bee66",
   "metadata": {},
   "source": [
    "### *Develop a Python application that generates random JSON-style documents of student dataset.*"
   ]
  },
  {
   "cell_type": "code",
   "execution_count": 3,
   "id": "1e190b5e",
   "metadata": {},
   "outputs": [
    {
     "name": "stdout",
     "output_type": "stream",
     "text": [
      "Generated 100 student records and saved to students_data.json\n"
     ]
    }
   ],
   "source": [
    "import json\n",
    "import random\n",
    "\n",
    "# Sample data for generating random student records\n",
    "student_names = [\"Alice\", \"Bob\", \"Charlie\", \"David\", \"Emma\", \"Frank\", \"Grace\", \"Henry\", \"Ivy\", \"Jack\"]\n",
    "subjects = [\"Math\", \"Science\", \"History\", \"Literature\", \"Programming\", \"Data Science\", \"Astrophysics\"]\n",
    "\n",
    "def generate_student():\n",
    "    # Generate a random student record\n",
    "    name = random.choice(student_names)\n",
    "    age = random.randint(18, 25)\n",
    "    subject = random.choice(subjects)\n",
    "\n",
    "    student = {\n",
    "        \"name\": name,\n",
    "        \"age\": age,\n",
    "        \"subject\": subject\n",
    "    }\n",
    "    return student\n",
    "\n",
    "def generate_student_records(num_records):\n",
    "    # Generate multiple random student records\n",
    "    students = [generate_student() for _ in range(num_records)]\n",
    "    return students\n",
    "\n",
    "if __name__ == \"__main__\":\n",
    "    num_of_records = 100  # Number of student records to generate\n",
    "\n",
    "    # Generate random student records\n",
    "    students_data = generate_student_records(num_of_records)\n",
    "\n",
    "    # Save generated data to a JSON file\n",
    "    with open('students_data.json', 'w') as file:\n",
    "        json.dump(students_data, file, indent=2)\n",
    "\n",
    "    print(f\"Generated {num_of_records} student records and saved to students_data.json\")\n"
   ]
  },
  {
   "cell_type": "markdown",
   "id": "e0481959",
   "metadata": {},
   "source": [
    "### *Push the Student dataset (student_data.json) into MongoDB*"
   ]
  },
  {
   "cell_type": "code",
   "execution_count": 4,
   "id": "70e04b23",
   "metadata": {},
   "outputs": [
    {
     "name": "stdout",
     "output_type": "stream",
     "text": [
      "Uncomment to print the Inserted document IDs:\n"
     ]
    }
   ],
   "source": [
    "import pymongo\n",
    "import json\n",
    "\n",
    "with open('students_data.json') as file:\n",
    "    students_data = json.load(file)\n",
    "    \n",
    "# Insert the data into the collection\n",
    "result = collection.insert_many(students_data)\n",
    "\n",
    "# Print inserted document IDs\n",
    "print(\"Uncomment to print the Inserted document IDs:\")\n",
    "#for id in result.inserted_ids:\n",
    "#    print(id)"
   ]
  },
  {
   "cell_type": "markdown",
   "id": "08e65786",
   "metadata": {},
   "source": [
    "### *MongoDB Queries*"
   ]
  },
  {
   "cell_type": "code",
   "execution_count": 5,
   "id": "f3144b91",
   "metadata": {},
   "outputs": [
    {
     "name": "stdout",
     "output_type": "stream",
     "text": [
      "Inserted document ID: 65a5686be6ecb0e20c00ac0e\n",
      "Inserted document ID: 65a5686be6ecb0e20c00ac0f\n",
      "******************************************************************************************************************************************************\n",
      "Number of documents deleted: 1\n",
      "******************************************************************************************************************************************************\n",
      "Average score for all students: 21\n",
      "******************************************************************************************************************************************************\n",
      "[\n",
      " {\n",
      "  \"_id\": \"Astrophysics\",\n",
      "  \"count\": 19\n",
      " },\n",
      " {\n",
      "  \"_id\": \"German Language\",\n",
      "  \"count\": 1\n",
      " },\n",
      " {\n",
      "  \"_id\": \"Science\",\n",
      "  \"count\": 15\n",
      " },\n",
      " {\n",
      "  \"_id\": \"History\",\n",
      "  \"count\": 11\n",
      " },\n",
      " {\n",
      "  \"_id\": \"Programming\",\n",
      "  \"count\": 20\n",
      " },\n",
      " {\n",
      "  \"_id\": \"Math\",\n",
      "  \"count\": 6\n",
      " },\n",
      " {\n",
      "  \"_id\": \"Data Science\",\n",
      "  \"count\": 14\n",
      " },\n",
      " {\n",
      "  \"_id\": \"Literature\",\n",
      "  \"count\": 15\n",
      " }\n",
      "]\n",
      "******************************************************************************************************************************************************\n"
     ]
    }
   ],
   "source": [
    "'''                                 Insert new documents\n",
    "'''\n",
    "insert_student = [{\n",
    "        \"name\": 'Muzammil',\n",
    "        \"age\": 31,\n",
    "        \"subject\": 'Astrophysics'\n",
    "    },\n",
    "    {\n",
    "        \"name\": 'Kira',\n",
    "        \"age\": 26,\n",
    "        \"subject\": 'German Language'\n",
    "    }\n",
    "]\n",
    "\n",
    "# Insert the new student data into the collection\n",
    "result = collection.insert_many(insert_student)\n",
    "\n",
    "# Print the inserted document IDs\n",
    "for doc_id in result.inserted_ids:\n",
    "    print(\"Inserted document ID:\", doc_id)\n",
    "    \n",
    "print (150*'*')\n",
    "#**********************************************************************************\n",
    "\n",
    "'''                                Delete documents\n",
    "'''\n",
    "delete_criteria = {\n",
    "    \"name\": \"Muzammil\",\n",
    "    \"subject\": \"Astrophysics\"\n",
    "}\n",
    "\n",
    "# Delete documents that match the specified criteria\n",
    "result = collection.delete_one(delete_criteria)\n",
    "\n",
    "# Print the number of documents deleted\n",
    "print(\"Number of documents deleted:\", result.deleted_count)\n",
    "\n",
    "print (150*'*')\n",
    "#**********************************************************************************\n",
    "\n",
    "'''                                Average Operation\n",
    "'''\n",
    "\n",
    "pipeline_avg = [\n",
    "    {\"$group\": {\n",
    "    \"_id\": None,\n",
    "    \"average_age\": {\"$avg\": \"$age\"}\n",
    "    }\n",
    "    }\n",
    "]\n",
    "result_avg = list(collection.aggregate(pipeline_avg))\n",
    "print(\"Average score for all students:\", int(result_avg[0]['average_age']))\n",
    "\n",
    "print (150*'*')\n",
    "#**********************************************************************************\n",
    "\n",
    "'''                             GROUPBY and COUNT operation students in each department\n",
    "'''\n",
    "pipeline_group_count = [\n",
    "    {\n",
    "        \"$group\": {\n",
    "            \"_id\": \"$subject\",  # Group by the 'age' field\n",
    "            \"count\": {\"$sum\": 1}  # Count occurrences in each group\n",
    "        }\n",
    "    }\n",
    "]\n",
    "result_group_count = list(collection.aggregate(pipeline_group_count))\n",
    "pretty_result = json.dumps(result_group_count, indent=1)\n",
    "print(pretty_result)\n",
    "\n",
    "print (150*'*')\n",
    "#**********************************************************************************\n",
    "\n",
    "'''                             Updating the documents with specific criteria\n",
    "'''\n",
    "update_student = {\n",
    "        \"name\": 'Jack',\n",
    "        \"age\": 22,\n",
    "        \"subject\": 'Science'\n",
    "    }\n",
    "filter_criteria = {'name': update_student['name']}\n",
    "update_data = {'$set': update_student}  # Update the entire document with the new data\n",
    "\n",
    "result = collection.update_one(filter_criteria, update_data)"
   ]
  },
  {
   "cell_type": "code",
   "execution_count": null,
   "id": "1deeb3d6",
   "metadata": {},
   "outputs": [],
   "source": []
  }
 ],
 "metadata": {
  "kernelspec": {
   "display_name": "Python 3 (ipykernel)",
   "language": "python",
   "name": "python3"
  },
  "language_info": {
   "codemirror_mode": {
    "name": "ipython",
    "version": 3
   },
   "file_extension": ".py",
   "mimetype": "text/x-python",
   "name": "python",
   "nbconvert_exporter": "python",
   "pygments_lexer": "ipython3",
   "version": "3.11.4"
  }
 },
 "nbformat": 4,
 "nbformat_minor": 5
}
